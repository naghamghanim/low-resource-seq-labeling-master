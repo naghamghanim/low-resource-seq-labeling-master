{
  "nbformat": 4,
  "nbformat_minor": 0,
  "metadata": {
    "colab": {
      "provenance": [],
      "authorship_tag": "ABX9TyM4qdek8SsGMHthKfYs0mCH",
      "include_colab_link": true
    },
    "kernelspec": {
      "name": "python3",
      "display_name": "Python 3"
    },
    "language_info": {
      "name": "python"
    },
    "accelerator": "GPU",
    "gpuClass": "standard"
  },
  "cells": [
    {
      "cell_type": "markdown",
      "metadata": {
        "id": "view-in-github",
        "colab_type": "text"
      },
      "source": [
        "<a href=\"https://colab.research.google.com/github/naghamghanim/low_resource_seq_labeling_master/blob/main/low_resource_seq_labeling(25_10).ipynb\" target=\"_parent\"><img src=\"https://colab.research.google.com/assets/colab-badge.svg\" alt=\"Open In Colab\"/></a>"
      ]
    },
    {
      "cell_type": "code",
      "execution_count": null,
      "metadata": {
        "id": "wpH5uDkp6dtP"
      },
      "outputs": [],
      "source": [
        "# Verify that you have the GPU recognized \n",
        "!nvidia-smi"
      ]
    },
    {
      "cell_type": "code",
      "source": [
        "!rm -rf /content/low_resource_seq_labeling_master\n",
        "!git clone https://github.com/naghamghanim/low_resource_seq_labeling_master.git"
      ],
      "metadata": {
        "colab": {
          "base_uri": "https://localhost:8080/"
        },
        "id": "wY3dZobk69NQ",
        "outputId": "648821a4-f449-4d16-fcb4-861aa96983f2"
      },
      "execution_count": 2,
      "outputs": [
        {
          "output_type": "stream",
          "name": "stdout",
          "text": [
            "remote: Total 128 (delta 35), reused 120 (delta 32), pack-reused 0\u001b[K\n",
            "Receiving objects: 100% (128/128), 11.81 MiB | 5.09 MiB/s, done.\n",
            "Resolving deltas: 100% (35/35), done.\n"
          ]
        }
      ]
    },
    {
      "cell_type": "code",
      "source": [
        "!pip install transformers"
      ],
      "metadata": {
        "id": "5PtRMCP27QOO",
        "outputId": "8b3f72db-ae21-4350-a546-4e72c22450a8",
        "colab": {
          "base_uri": "https://localhost:8080/"
        }
      },
      "execution_count": 3,
      "outputs": [
        {
          "output_type": "stream",
          "name": "stdout",
          "text": [
            "Successfully installed huggingface-hub-0.10.1 tokenizers-0.13.1 transformers-4.23.1\n"
          ]
        }
      ]
    },
    {
      "cell_type": "code",
      "source": [
        "# Make output directory\n",
        "!mkdir /content/output/"
      ],
      "metadata": {
        "id": "g0KQW8dZ8zSE"
      },
      "execution_count": 4,
      "outputs": []
    },
    {
      "cell_type": "code",
      "source": [
        "import sys\n",
        "import argparse\n",
        "sys.path.append('/content/low_resource_seq_labeling_master/')"
      ],
      "metadata": {
        "id": "LTxyAR0s8_eC"
      },
      "execution_count": 5,
      "outputs": []
    },
    {
      "cell_type": "markdown",
      "source": [
        "## **XLMR models**"
      ],
      "metadata": {
        "id": "JAZ1suaHuMmI"
      }
    },
    {
      "cell_type": "code",
      "source": [
        "#mkdir pretrained_models\n",
        "\n",
        "\n",
        "!wget https://dl.fbaipublicfiles.com/fairseq/models/xlmr.base.tar.gz # base model\n",
        "!tar -xzvf xlmr.base.tar.gz # extract it\n",
        "\n",
        "!wget https://dl.fbaipublicfiles.com/fairseq/models/xlmr.large.tar.gz # large model\n",
        "!tar -xzvf xlmr.large.tar.gz"
      ],
      "metadata": {
        "id": "OjzpLYGWuuM0"
      },
      "execution_count": null,
      "outputs": []
    },
    {
      "cell_type": "markdown",
      "source": [
        "## **Finetuning**"
      ],
      "metadata": {
        "id": "77H11COZvT1S"
      }
    },
    {
      "cell_type": "code",
      "source": [
        "!pip install pytorch-transformers"
      ],
      "metadata": {
        "id": "tFQ7Q7Y4xQSx"
      },
      "execution_count": null,
      "outputs": []
    },
    {
      "cell_type": "code",
      "source": [
        "!pip install seqeval"
      ],
      "metadata": {
        "id": "JRHRUoJGxe-O"
      },
      "execution_count": null,
      "outputs": []
    },
    {
      "cell_type": "code",
      "source": [
        "!pip install fairseq"
      ],
      "metadata": {
        "id": "2yT6JZOUhNB_"
      },
      "execution_count": null,
      "outputs": []
    },
    {
      "cell_type": "code",
      "source": [
        "!pip install -q torch==1.4 torchvision"
      ],
      "metadata": {
        "id": "bsjcl-ekiVgA"
      },
      "execution_count": null,
      "outputs": []
    },
    {
      "cell_type": "code",
      "source": [
        "!pip install pytorch-crf"
      ],
      "metadata": {
        "id": "nmPdBKEPjbGx",
        "outputId": "bdf0a05a-c986-45fe-c8cb-b6e969068b79",
        "colab": {
          "base_uri": "https://localhost:8080/"
        }
      },
      "execution_count": 28,
      "outputs": [
        {
          "output_type": "stream",
          "name": "stdout",
          "text": [
            "Looking in indexes: https://pypi.org/simple, https://us-python.pkg.dev/colab-wheels/public/simple/\n",
            "Collecting pytorch-crf\n",
            "  Downloading pytorch_crf-0.7.2-py3-none-any.whl (9.5 kB)\n",
            "Installing collected packages: pytorch-crf\n",
            "Successfully installed pytorch-crf-0.7.2\n"
          ]
        }
      ]
    },
    {
      "cell_type": "code",
      "source": [
        "!pip install TorchCRF"
      ],
      "metadata": {
        "id": "6qOYZ8_ehiHz",
        "outputId": "921c6d2f-a8d9-40c8-e2a8-e40e681029c1",
        "colab": {
          "base_uri": "https://localhost:8080/"
        }
      },
      "execution_count": 24,
      "outputs": [
        {
          "output_type": "stream",
          "name": "stdout",
          "text": [
            "Looking in indexes: https://pypi.org/simple, https://us-python.pkg.dev/colab-wheels/public/simple/\n",
            "Requirement already satisfied: TorchCRF in /usr/local/lib/python3.7/dist-packages (1.1.0)\n",
            "Requirement already satisfied: torch>=1.0.0 in /usr/local/lib/python3.7/dist-packages (from TorchCRF) (1.4.0)\n",
            "Requirement already satisfied: numpy in /usr/local/lib/python3.7/dist-packages (from TorchCRF) (1.21.6)\n"
          ]
        }
      ]
    },
    {
      "cell_type": "code",
      "source": [
        "#get the seqeval\n",
        "!git clone https://github.com/chakki-works/seqeval.git"
      ],
      "metadata": {
        "id": "CeBZ64ZYetfR"
      },
      "execution_count": null,
      "outputs": []
    },
    {
      "cell_type": "code",
      "source": [
        "from main import main"
      ],
      "metadata": {
        "id": "YtBFeIgmwGGI"
      },
      "execution_count": 29,
      "outputs": []
    },
    {
      "cell_type": "code",
      "source": [
        "\n",
        "\n",
        "python main.py --data_dir=data_path --task_name=ner \\\n",
        "        --output_dir=output_dir \\\n",
        "        --max_seq_length=320 --num_train_epochs 5 \\\n",
        "        --do_eval --warmup_proportion=0.1 \\\n",
        "        --pretrained_path pretrained_models/xlmr.base/ \\\n",
        "        --learning_rate 0.00001\\\n",
        "        --gradient_accumulation_steps 1 --eval_on test --dropout 0.1\\\n",
        "        --train_batch_size 16 --eval_batch_size 128 --do_train\n",
        "\n",
        "\n"
      ],
      "metadata": {
        "id": "O4RdZVFjvVte"
      },
      "execution_count": null,
      "outputs": []
    }
  ]
}