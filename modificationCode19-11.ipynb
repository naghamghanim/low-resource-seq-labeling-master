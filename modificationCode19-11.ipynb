{
  "cells": [
    {
      "cell_type": "markdown",
      "metadata": {
        "id": "view-in-github",
        "colab_type": "text"
      },
      "source": [
        "<a href=\"https://colab.research.google.com/github/naghamghanim/low_resource_seq_labeling_master/blob/main/modificationCode19-11.ipynb\" target=\"_parent\"><img src=\"https://colab.research.google.com/assets/colab-badge.svg\" alt=\"Open In Colab\"/></a>"
      ]
    },
    {
      "cell_type": "code",
      "source": [
        "!rm -rf /content/data\n",
        "!git clone https://github.com/naghamghanim/low_resource_seq_labeling_master.git"
      ],
      "metadata": {
        "id": "9vJ5b-AbNrYn",
        "outputId": "b6a088ed-ad2d-43b9-bcca-466bd7678dbd",
        "colab": {
          "base_uri": "https://localhost:8080/"
        }
      },
      "execution_count": 1,
      "outputs": [
        {
          "output_type": "stream",
          "name": "stdout",
          "text": [
            "Cloning into 'low_resource_seq_labeling_master'...\n",
            "remote: Enumerating objects: 269, done.\u001b[K\n",
            "remote: Counting objects: 100% (269/269), done.\u001b[K\n",
            "remote: Compressing objects: 100% (196/196), done.\u001b[K\n",
            "remote: Total 269 (delta 121), reused 209 (delta 72), pack-reused 0\u001b[K\n",
            "Receiving objects: 100% (269/269), 21.53 MiB | 13.84 MiB/s, done.\n",
            "Resolving deltas: 100% (121/121), done.\n"
          ]
        }
      ]
    },
    {
      "cell_type": "code",
      "source": [
        "import sys\n",
        "import argparse\n",
        "sys.path.append('/content/data/')"
      ],
      "metadata": {
        "id": "uB1wmQjyOZJ5"
      },
      "execution_count": 3,
      "outputs": []
    },
    {
      "cell_type": "code",
      "source": [
        "\n",
        "!mkdir /content/output/"
      ],
      "metadata": {
        "id": "f9OAjRO0PA-K"
      },
      "execution_count": null,
      "outputs": []
    },
    {
      "cell_type": "code",
      "source": [
        "import pandas as pd\n",
        "import itertools\n",
        "from google.colab import data_table\n",
        "\n",
        "df3 = pd.read_csv('/content/data/NewExperiments/their2000.csv',encoding='utf8')\n",
        "\n",
        "n = 2026\n",
        "df4=df3.iloc[0:n]\n",
        "\n",
        "data_table.DataTable(df4.sample(frac=1).reset_index(drop=True),include_index=False, num_rows_per_page=10)\n"
      ],
      "metadata": {
        "id": "D59uUqwKZu6A"
      },
      "execution_count": null,
      "outputs": []
    },
    {
      "cell_type": "code",
      "source": [],
      "metadata": {
        "id": "SAApGvN1Pypj"
      },
      "execution_count": null,
      "outputs": []
    },
    {
      "cell_type": "code",
      "source": [
        "df4.to_csv(\"/content/data/NewExperiments2/their2000.csv\", sep=',', index=False,encoding='utf8')\n"
      ],
      "metadata": {
        "id": "TapYQtvwaUUa"
      },
      "execution_count": null,
      "outputs": []
    },
    {
      "cell_type": "code",
      "source": [
        "import pandas as pd\n",
        "import numpy as np\n",
        "from google.colab import data_table\n",
        "\n",
        "df1  = pd.read_csv('/content/data/NewExperiments2/our2500-merge.csv',encoding='utf8') \n",
        "\n",
        "#here added to this file\n",
        "df1.to_csv('/content/data/NewExperiments2/M6/train.csv', mode='a', index=False, header=False,encoding='utf8')\n",
        "data_table.DataTable(df1.sample(frac=1).reset_index(drop=True),include_index=False, num_rows_per_page=10)\n"
      ],
      "metadata": {
        "id": "_SD2ruaDeFEp"
      },
      "execution_count": null,
      "outputs": []
    },
    {
      "cell_type": "code",
      "source": [
        "import pandas as pd\n",
        "import itertools\n",
        "from google.colab import data_table\n",
        "\n",
        "\n",
        "df = pd.read_csv('/content/low_resource_seq_labeling_master/data/wojood_v1_validation/wojood_v1_validation_70.csv',encoding='utf8')\n",
        "\n",
        "df1 = pd.DataFrame(df, columns = [ 'token','flat_tag'])\n",
        "data_table.DataTable(df1.sample(frac=1).reset_index(drop=True),include_index=False, num_rows_per_page=10)\n",
        "#df1.to_csv(\"/content/low_resource_seq_labeling_master/data/wojood_v1_validation/validation_70.csv\", sep=',', index=False,encoding='utf8')\n",
        "\n",
        "print(df1['flat_tag'].unique())\n"
      ],
      "metadata": {
        "id": "p90n1TTyM-AA",
        "outputId": "095395f6-f1ac-451d-c8dd-e1c8a9ee11b7",
        "colab": {
          "base_uri": "https://localhost:8080/"
        }
      },
      "execution_count": 8,
      "outputs": [
        {
          "output_type": "stream",
          "name": "stdout",
          "text": [
            "['O' 'B-CARDINAL' 'B-ORG' 'I-ORG' 'B-DATE' 'B-LANGUAGE' 'B-NORP' 'B-PERS'\n",
            " 'I-PERS' 'B-OCC' 'I-DATE' 'B-GPE' 'B-EVENT' 'I-EVENT' 'I-OCC'\n",
            " 'I-CARDINAL' 'B-FAC' 'I-FAC' 'B-MONEY' 'I-MONEY' 'B-ORDINAL' 'I-LANGUAGE'\n",
            " 'B-TIME' 'I-TIME' 'I-GPE' 'B-LOC' 'I-LOC' 'I-NORP' 'B-QUANTITY'\n",
            " 'B-PERCENT' 'I-PERCENT' 'B-UNIT' 'I-QUANTITY' 'B-CURR' 'I-ORDINAL'\n",
            " 'B-WEBSITE' 'I-WEBSITE' 'B-URL' 'I-URL' 'I-CURR' 'B-PRODUCT' 'I-PRODUCT'\n",
            " 'B-LAW' 'I-LAW' 'B-PLATFORM' 'I-PLATFORM' 'B-FRAMEWORK' 'B-PL' 'I-PL'\n",
            " 'I-FRAMEWORK' 'B-SD' 'B-APPLICATION' 'I-APPLICATION' 'B-PP' 'I-PP' 'I-SD']\n"
          ]
        }
      ]
    },
    {
      "cell_type": "code",
      "source": [],
      "metadata": {
        "id": "1a0xZ7pjP1rD"
      },
      "execution_count": null,
      "outputs": []
    },
    {
      "cell_type": "code",
      "source": [
        "# Select range of rows from csv file\n",
        "import pandas as pd\n",
        "import itertools\n",
        "from google.colab import data_table\n",
        "\n",
        "\n",
        "df = pd.read_csv('/content/data/NewExperiments/OurData.csv',encoding='utf8')\n",
        "\n",
        "df1 = pd.DataFrame(df, columns = [ 'token','flat_tag'])\n",
        "data_table.DataTable(df1.sample(frac=1).reset_index(drop=True),include_index=False, num_rows_per_page=10)\n",
        "\n",
        "#here select only not hate from our data\n",
        "df2=df1.loc[df1['NOT'] == \"NOT\"]\n",
        "#data_table.DataTable(df2.sample(frac=1).reset_index(drop=True),include_index=False, num_rows_per_page=10)\n",
        "\n",
        "\n",
        "\n",
        "#save not hate records\n",
        "df2.to_csv(\"/content/data/NewExperiments/NotHate.csv\", sep=',', index=False,encoding='utf8')\n",
        "\n",
        "df3 = pd.read_csv('/content/data/NewExperiments/NotHate.csv',encoding='utf8')\n",
        "\n",
        "n = 3300\n",
        "df4=df3.iloc[2000:n]\n",
        "\n",
        "data_table.DataTable(df4.sample(frac=1).reset_index(drop=True),include_index=False, num_rows_per_page=10)\n",
        "\n",
        "df4['NOT'] = \"Positive\"\n",
        "\n",
        "df4.rename(columns = {'TweetText':'text'}, inplace = True)\n",
        "df4.rename(columns = {'NOT':'label'}, inplace = True)\n",
        "\n",
        "\n",
        "data_table.DataTable(df4.sample(frac=1).reset_index(drop=True),include_index=False, num_rows_per_page=10)\n",
        "\n",
        "df4.to_csv(\"/content/data/NewExperiments/NotHate1300.csv\", sep=',', index=False,encoding='utf8')\n"
      ],
      "metadata": {
        "id": "33PRnIaL6BRw"
      },
      "execution_count": null,
      "outputs": []
    },
    {
      "cell_type": "code",
      "source": [
        "#select hate records\n",
        "\n",
        "df1 = pd.DataFrame(df, columns = ['TweetText', 'NOT'])\n",
        "data_table.DataTable(df1.sample(frac=1).reset_index(drop=True),include_index=False, num_rows_per_page=10)\n",
        "op = df1.loc[(df1['NOT'] != \"NOT\") & (df1['NOT'] != \"\") ]\n",
        "op2 = op[op.NOT.notnull()]\n",
        "\n",
        "op2['NOT'] = \"Negative\"\n",
        "\n",
        "op2.rename(columns = {'TweetText':'text'}, inplace = True)\n",
        "op2.rename(columns = {'NOT':'label'}, inplace = True)\n",
        "\n",
        "data_table.DataTable(op2.sample(frac=1).reset_index(drop=True),include_index=False, num_rows_per_page=10)\n",
        "\n",
        "op2.to_csv(\"/content/data/NewExperiments/Hate.csv\", sep=',', index=False,encoding='utf8')\n"
      ],
      "metadata": {
        "id": "6IQgOcy7XxDU"
      },
      "execution_count": null,
      "outputs": []
    },
    {
      "cell_type": "markdown",
      "source": [],
      "metadata": {
        "id": "h99muAPxSvyD"
      }
    },
    {
      "cell_type": "code",
      "source": [
        "# merge ours 2000\n",
        "\n",
        "import pandas as pd\n",
        "import numpy as np\n",
        "from google.colab import data_table\n",
        "\n",
        "df1  = pd.read_csv('/content/data/NewExperiments/our2500.csv',encoding='utf8') \n",
        "\n",
        "#here added to this file\n",
        "df1.to_csv('/content/data/NewExperiments/M6/train.csv', mode='a', index=False, header=False,encoding='utf8')\n",
        "data_table.DataTable(df1.sample(frac=1).reset_index(drop=True),include_index=False, num_rows_per_page=10)\n",
        "\n"
      ],
      "metadata": {
        "id": "8eWQMDvNQPD6"
      },
      "execution_count": null,
      "outputs": []
    },
    {
      "cell_type": "code",
      "source": [
        "##shufflying data\n",
        "\n",
        "import pandas as pd\n",
        "from google.colab import data_table\n",
        "\n",
        "df = pd.read_csv('/content/data/NewExperiments2/our2500.csv',encoding='utf8')\n",
        "df2=df.sample(frac=1).reset_index(drop=True)\n",
        "\n",
        "df = pd.DataFrame(df, columns = ['text', 'label'])\n",
        "data_table.DataTable(df.sample(frac=1).reset_index(drop=True),include_index=False, num_rows_per_page=10)\n"
      ],
      "metadata": {
        "id": "OdUAUjW_N0wx"
      },
      "execution_count": null,
      "outputs": []
    },
    {
      "cell_type": "code",
      "source": [
        "df2.to_csv(\"/content/data/NewExperiments2/our2500-shuffled.csv\", sep=',', index=False,encoding='utf8')"
      ],
      "metadata": {
        "id": "e0R5Yv83QJyy"
      },
      "execution_count": null,
      "outputs": []
    },
    {
      "cell_type": "code",
      "source": [
        "\n",
        "#Cleaning only usernames from dataset\n",
        "\n",
        "import pandas as pd\n",
        "import numpy as np\n",
        "from google.colab import data_table\n",
        "import re\n",
        "\n",
        "#here read val file\n",
        "df  = pd.read_csv('/content/data/NewExperiments2/Our2500-original.csv',encoding='utf8') \n",
        "\n",
        "\n",
        "def clean_text(row, options):\n",
        "\n",
        "    if options['lowercase']:\n",
        "        row = row.lower()\n",
        "\n",
        "\n",
        "    if options['remove_url']:\n",
        "        row = row.replace('http\\S+|www.\\S+', '')\n",
        "\n",
        "    if options['remove_mentions']:\n",
        "       # row = row.replace('@[A-Za-z0-9]+', '')\n",
        "       #df['text'] = df['text'].replace('@[A-Za-z0-9]+', '', regex=True)\n",
        "       re.sub(\"@[A-Za-z0-9]+\",\"\", \"@thisisauser text\")\n",
        "       ' text'\n",
        "\n",
        "    return row\n",
        "\n",
        "clean_config = {\n",
        "    'remove_url': False,\n",
        "    'remove_mentions': True,\n",
        "    'decode_utf8': True,\n",
        "    'lowercase': False\n",
        "    }\n",
        "\n",
        "#df['text'] = df['text'].apply(clean_text, args=(clean_config,))\n",
        "\n",
        "\n",
        "df['text'] = df['text'].str.replace(r'\\s*@\\w+', '', regex=True)\n",
        "df['text'] = df['text'].str.replace(r'\\s*\\B@\\w+', '', regex=True)\n",
        "df['text'] = df['text'].str.replace(r'\\s*@\\S+', '', regex=True)\n",
        "df['text'] = df['text'].str.replace(r'\\s*@\\S+\\b', '', regex=True)\n",
        "\n",
        "data_table.DataTable(df.sample(frac=1).reset_index(drop=True),include_index=False, num_rows_per_page=10)\n",
        "df.to_csv(\"/content/data/NewExperiments2/our2500.csv\", sep=',', index=False,encoding='utf8')\n"
      ],
      "metadata": {
        "id": "w8uq8NqwJSUa"
      },
      "execution_count": null,
      "outputs": []
    },
    {
      "cell_type": "code",
      "source": [
        "#cleaning data from rows val dataset\n",
        "\n",
        "import pandas as pd\n",
        "import numpy as np\n",
        "from google.colab import data_table\n",
        "import re\n",
        "\n",
        "#here read val file\n",
        "df  = pd.read_csv('/content/data/without_cleaning/ours2000.csv',encoding='utf8') \n",
        "\n",
        "\n",
        "df['text'] = df['text'].replace('[0-9]', '', regex=True)\n",
        "df['text']= df['text'].replace('_', '', regex=True)\n",
        "df['text']= df['text'].replace('/', '', regex=True)\n",
        "df['text'] = df['text'].replace('@', '', regex=True)\n",
        "df['text'] = df['text'].replace(r'\\s*[A-Za-z]+\\b', '', regex=True)\n",
        "\n",
        "df = pd.DataFrame(df, columns = ['text', 'label'])\n",
        "df.to_csv('/content/data/models4/ours2000-cleaned.csv', index=False,encoding='utf8')\n",
        "\n",
        "\n",
        "data_table.DataTable(df,include_index=False, num_rows_per_page=10)\n"
      ],
      "metadata": {
        "id": "_szOb5B2XEr6"
      },
      "execution_count": null,
      "outputs": []
    },
    {
      "cell_type": "code",
      "source": [
        "#select random lines from csv file\n",
        "import pandas as pd\n",
        "import numpy as np\n",
        "from google.colab import data_table\n",
        "\n",
        "\n",
        "df1  = pd.read_csv('/content/data/NewExperiments/their2000.csv',encoding='utf8') \n",
        "\n",
        "#split into 3 datasets\n",
        "train, val, test = np.split(df1.sample(frac=1), [int(0.7*len(df1)),int(.8*len(df1))])\n",
        "\n",
        "\n",
        "# select only 1000\n",
        "#train, val, test = np.split(df1.sample(frac=1), [int(0.7*len(df1)),int(.75*len(df1))])\n",
        "\n",
        "\n",
        "#here we took 1500 train data\n",
        "#df1 = pd.DataFrame(val, columns = ['text', 'label'])\n",
        "#data_table.DataTable(val,include_index=False, num_rows_per_page=10)\n",
        "\n",
        "#df1.to_csv('/content/data/models2/M2/their1000.csv', index=False,encoding='utf8')\n",
        "\n",
        "\n",
        "\n",
        "#1000 from here\n",
        "#df2  = pd.read_csv('/content/data/models/TheirData2000.csv',encoding='utf8') \n",
        "#df2=df2.dropna()\n",
        "\n",
        "#train, val, test = np.split(df2.sample(frac=1), [int(.7*len(df2)),int(.75*len(df2))])\n",
        "#df2 = pd.DataFrame(train, columns = ['text', 'label'])\n",
        "#df2.to_csv('/content/data/models/M7/TheirData2000.csv', index=False,encoding='utf8')\n",
        "\n",
        "\n",
        "data_table.DataTable(train,include_index=False, num_rows_per_page=10)\n"
      ],
      "metadata": {
        "id": "XDf8IQdJz8oS"
      },
      "execution_count": null,
      "outputs": []
    },
    {
      "cell_type": "code",
      "source": [
        "df1 = pd.DataFrame(train, columns = ['text', 'label'])\n",
        "df1.to_csv('/content/data/NewExperiments2/M4/train.csv', index=False,encoding='utf8')\n",
        "\n",
        "df1 = pd.DataFrame(test, columns = ['text', 'label'])\n",
        "df1.to_csv('/content/data/NewExperiments2/M4/test.csv', index=False,encoding='utf8')\n",
        "\n",
        "df1 = pd.DataFrame(val, columns = ['text', 'label'])\n",
        "df1.to_csv('/content/data/NewExperiments2/M4/val.csv', index=False,encoding='utf8')"
      ],
      "metadata": {
        "id": "evau_tKPVgfV"
      },
      "execution_count": null,
      "outputs": []
    },
    {
      "cell_type": "code",
      "source": [
        "#counting number of positive and negative\n",
        "\n",
        "\n",
        "import pandas as pd\n",
        "from google.colab import data_table\n",
        "\n",
        "df  = pd.read_csv('/content/data/NewExperiments3/our2500.csv',encoding='utf8') \n",
        "df = pd.DataFrame(df, columns = ['label'])\n",
        "data_table.DataTable(df,include_index=False, num_rows_per_page=10)\n",
        "\n",
        "df['label'].value_counts()\n"
      ],
      "metadata": {
        "id": "1a7c98zyPRTJ"
      },
      "execution_count": null,
      "outputs": []
    },
    {
      "cell_type": "code",
      "source": [
        "#merge 2 csv files\n",
        "\n",
        "import pandas as pd\n",
        "import numpy as np\n",
        "from google.colab import data_table\n",
        "\n",
        "df1  = pd.read_csv('/content/data/NewExperiments3/our2500.csv',encoding='utf8') \n",
        "\n",
        "#here added to this file\n",
        "df1.to_csv('/content/data/NewExperiments3/M6/train.csv', mode='a', index=False, header=False)\n",
        "\n"
      ],
      "metadata": {
        "id": "lex6ssi-UhCK"
      },
      "execution_count": null,
      "outputs": []
    },
    {
      "cell_type": "code",
      "source": [
        "#counitng number of occurences in specific column\n",
        "import pandas as pd\n",
        "from google.colab import data_table\n",
        "\n",
        "df  = pd.read_csv('/content/data/OurData.csv',encoding='utf8') \n",
        "df = pd.DataFrame(df, columns = ['target'])\n",
        "data_table.DataTable(df,include_index=False, num_rows_per_page=10)\n",
        "\n",
        "df['target'].value_counts()[:6].index.tolist()\n",
        "\n",
        "# sum all the counts targets and mentions\n",
        "#len(counts) \n",
        "\n",
        "\n"
      ],
      "metadata": {
        "id": "pPrg-JVqzkK1"
      },
      "execution_count": null,
      "outputs": []
    },
    {
      "cell_type": "code",
      "source": [
        "# find the longest sentence in TweetText\n",
        "\n",
        "df  = pd.read_csv('/content/data/OurData.csv',encoding='utf8') \n",
        "df = pd.DataFrame(df, columns = ['TweetText'])\n",
        "data_table.DataTable(df,include_index=False, num_rows_per_page=10)\n",
        "\n",
        "\n",
        "df['TweetText'].str.len().max()\n",
        "\n",
        "\n"
      ],
      "metadata": {
        "id": "V5g1W07f9qOF"
      },
      "execution_count": null,
      "outputs": []
    },
    {
      "cell_type": "code",
      "source": [
        "#check for duplicate\n",
        "import pandas as pd\n",
        "import numpy as np\n",
        "from google.colab import data_table\n",
        "\n",
        "df2  = pd.read_csv('/content/data/models/M7/train.csv',encoding='utf8') \n",
        "\n",
        "bool_series = df2.duplicated(keep='last')\n",
        "\n",
        "print(bool_series)\n",
        "\n"
      ],
      "metadata": {
        "id": "wpl7lKlReV8v"
      },
      "execution_count": null,
      "outputs": []
    },
    {
      "cell_type": "code",
      "source": [
        "import pandas as pd\n",
        "import numpy as np\n",
        "from google.colab import data_table\n",
        "#here shuffle the final data\n",
        "#df = pd.read_csv('/content/data/finalData.csv')\n",
        "#df.sample(frac=1).reset_index(drop=True)\n",
        "\n",
        "#data_table.DataTable(df.sample(frac=1).reset_index(drop=True),include_index=False, num_rows_per_page=10)\n",
        "#df.to_csv(\"/content/output/shuffledData.csv\", sep='\\t')\n",
        "\n",
        "\n",
        "#splitting data into train, test and val datasets\n",
        "iris = pd.read_csv('/content/data/models/M4/Dataset-test.csv') \n",
        "\n",
        "# one line split only into two datasets train and test without validation dataset\n",
        "#train, validation, test = np.split(iris.sample(frac=1), [int(.7*len(iris)),int(.6*len(iris))])\n",
        "\n",
        "# one line split only into two datasets train 70% and test 20% validation 10% dataset\n",
        "train, val, test = np.split(iris.sample(frac=1), [int(.7*len(iris)),int(.75*len(iris))])\n",
        "\n",
        "data_table.DataTable(iris,include_index=False, num_rows_per_page=10)\n",
        "\n",
        "\n",
        "df = pd.DataFrame(train, columns = ['text', 'label'])\n",
        "df.to_csv('/content/data/models/M4/train.csv', index=False)\n",
        "\n",
        "df = pd.DataFrame(test, columns = ['text', 'label'])\n",
        "df.to_csv('/content/data/models/M4/test.csv', index=False)\n",
        "\n",
        "df = pd.DataFrame(val, columns = ['text', 'label'])\n",
        "df.to_csv('/content/data/models/M4/val.csv', index=False)\n",
        "\n",
        "\n"
      ],
      "metadata": {
        "id": "rpVCSFrGXlKh"
      },
      "execution_count": null,
      "outputs": []
    },
    {
      "cell_type": "code",
      "source": [
        "# read number of rows from csv file and append into csv file\n",
        "\n",
        "import itertools\n",
        "import pandas as pd\n",
        "import numpy as np\n",
        "from google.colab import data_table\n",
        "\n",
        "#read dataset from their paper\n",
        "data = pd.read_csv('/content/data/models/Dataset.csv',nrows=2000)\n",
        "\n",
        "data_table.DataTable(data,include_index=False, num_rows_per_page=10)\n",
        "\n",
        "df = pd.DataFrame(data, columns = ['text', 'label'])\n",
        "df.to_csv('/content/data/models/M3/2000rows.csv', index=False)\n",
        "\n",
        "\n"
      ],
      "metadata": {
        "id": "XlLTgAKxfisO"
      },
      "execution_count": null,
      "outputs": []
    },
    {
      "cell_type": "code",
      "source": [
        "import pandas as pd\n",
        "import numpy as np\n",
        "from google.colab import data_table\n",
        "\n",
        "#merge 2 csv files\n",
        "data1=pd.read_csv('/content/data/models/M1/train.csv')\n",
        "data2=pd.read_csv('/content/data/models/M3/2000rows.csv')\n",
        "\n",
        "df1 = pd.DataFrame(data1, columns = ['text', 'label'])\n",
        "df2 = pd.DataFrame(data1, columns = ['text', 'label'])\n",
        "#out = df2.append(df1)\n",
        "\n",
        "out=pd.merge(df1, df2)\n",
        "\n",
        "df = pd.DataFrame(out, columns = ['text', 'label'])\n",
        "#df.to_csv('/content/data/models/M3/train.csv', index=False)\n",
        "data_table.DataTable(out,include_index=False, num_rows_per_page=10)\n",
        "\n",
        "\n",
        "#with open('C:/JIRA Excel File/result.csv', 'w', encoding='utf-8') as f:\n",
        " #   out.to_csv(f, index=False)"
      ],
      "metadata": {
        "id": "Tou1ZR0wpWSb"
      },
      "execution_count": null,
      "outputs": []
    }
  ],
  "metadata": {
    "colab": {
      "name": "Welcome To Colaboratory",
      "provenance": [],
      "include_colab_link": true
    },
    "kernelspec": {
      "display_name": "Python 3",
      "name": "python3"
    },
    "gpuClass": "standard"
  },
  "nbformat": 4,
  "nbformat_minor": 0
}