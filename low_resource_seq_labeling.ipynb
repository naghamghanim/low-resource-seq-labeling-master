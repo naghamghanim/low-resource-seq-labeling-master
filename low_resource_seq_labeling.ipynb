{
  "nbformat": 4,
  "nbformat_minor": 0,
  "metadata": {
    "colab": {
      "provenance": [],
      "authorship_tag": "ABX9TyNLGu+cQK2j+Ve3jNFdFRhg",
      "include_colab_link": true
    },
    "kernelspec": {
      "name": "python3",
      "display_name": "Python 3"
    },
    "language_info": {
      "name": "python"
    },
    "accelerator": "GPU",
    "gpuClass": "standard"
  },
  "cells": [
    {
      "cell_type": "markdown",
      "metadata": {
        "id": "view-in-github",
        "colab_type": "text"
      },
      "source": [
        "<a href=\"https://colab.research.google.com/github/naghamghanim/low-resource-seq-labeling-master/blob/main/low_resource_seq_labeling.ipynb\" target=\"_parent\"><img src=\"https://colab.research.google.com/assets/colab-badge.svg\" alt=\"Open In Colab\"/></a>"
      ]
    },
    {
      "cell_type": "code",
      "execution_count": null,
      "metadata": {
        "id": "wpH5uDkp6dtP"
      },
      "outputs": [],
      "source": [
        "# Verify that you have the GPU recognized \n",
        "!nvidia-smi"
      ]
    },
    {
      "cell_type": "code",
      "source": [
        "!rm -rf /content/low-resource-seq-labeling-master\n",
        "!git clone https://github.com/naghamghanim/low-resource-seq-labeling-master.git"
      ],
      "metadata": {
        "id": "wY3dZobk69NQ"
      },
      "execution_count": null,
      "outputs": []
    },
    {
      "cell_type": "code",
      "source": [
        "!pip install transformers"
      ],
      "metadata": {
        "id": "5PtRMCP27QOO"
      },
      "execution_count": null,
      "outputs": []
    },
    {
      "cell_type": "code",
      "source": [
        "# Make output directory\n",
        "!mkdir /content/output/"
      ],
      "metadata": {
        "id": "g0KQW8dZ8zSE"
      },
      "execution_count": null,
      "outputs": []
    },
    {
      "cell_type": "code",
      "source": [
        "import sys\n",
        "import argparse\n",
        "sys.path.append('/content/low-resource-seq-labeling-master/')"
      ],
      "metadata": {
        "id": "LTxyAR0s8_eC"
      },
      "execution_count": null,
      "outputs": []
    },
    {
      "cell_type": "code",
      "source": [
        "from comp9312.classify.train import main"
      ],
      "metadata": {
        "id": "VtN6Lhqt9FdZ"
      },
      "execution_count": null,
      "outputs": []
    }
  ]
}